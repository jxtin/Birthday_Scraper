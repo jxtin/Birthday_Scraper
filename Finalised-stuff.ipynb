{
 "cells": [
  {
   "cell_type": "code",
   "execution_count": 16,
   "id": "142dc4c8",
   "metadata": {},
   "outputs": [],
   "source": [
    "import time\n",
    "import undetected_chromedriver as uc\n",
    "from bs4 import BeautifulSoup\n",
    "import json"
   ]
  },
  {
   "cell_type": "code",
   "execution_count": 5,
   "id": "91fbd284",
   "metadata": {},
   "outputs": [],
   "source": [
    "def init_chromedriver(url):\n",
    "    options = uc.ChromeOptions()\n",
    "    options.headless = False\n",
    "    options.user_data_dir=\"/home/jxt1n/.config/chromium/\"\n",
    "    driver = uc.Chrome(options=options)\n",
    "    driver.get(url)\n",
    "    return driver"
   ]
  },
  {
   "cell_type": "code",
   "execution_count": null,
   "id": "953ac011",
   "metadata": {},
   "outputs": [],
   "source": [
    "def load_json(filename):\n",
    "    with open(filename, \"r\") as json_file:\n",
    "        return json.load(json_file)\n",
    "\n",
    "\n",
    "def dump_json(filename, data):\n",
    "    with open(filename, \"w\") as json_file:\n",
    "        json.dump(data, json_file)"
   ]
  },
  {
   "cell_type": "code",
   "execution_count": 6,
   "id": "48a5fca7",
   "metadata": {},
   "outputs": [
    {
     "name": "stderr",
     "output_type": "stream",
     "text": [
      "/home/jxt1n/.local/lib/python3.10/site-packages/undetected_chromedriver/__init__.py:276: UserWarning: using ChromeOptions.user_data_dir might stop working in future versions.use uc.Chrome(user_data_dir='/xyz/some/data') in case you need existing profile folder\n",
      "  warnings.warn(\n"
     ]
    }
   ],
   "source": [
    "driver=init_chromedriver(\"https://www.facebook.com\")"
   ]
  },
  {
   "cell_type": "markdown",
   "id": "7566f625",
   "metadata": {},
   "source": [
    "# Login into facebook"
   ]
  },
  {
   "cell_type": "code",
   "execution_count": 4,
   "id": "77fde24e",
   "metadata": {},
   "outputs": [],
   "source": [
    "driver.get(\"https://mbasic.facebook.com/me/friends\")"
   ]
  },
  {
   "cell_type": "code",
   "execution_count": 5,
   "id": "393c0d64",
   "metadata": {},
   "outputs": [],
   "source": [
    "def click_see_more_friends():\n",
    "    driver.find_element_by_id(\"m_more_friends\").find_element_by_tag_name('a').click()"
   ]
  },
  {
   "cell_type": "code",
   "execution_count": 11,
   "id": "e8bcd5cb",
   "metadata": {},
   "outputs": [],
   "source": [
    "def get_BirthDate(profile_url):\n",
    "    if \"?id=\" in profile_url:\n",
    "        driver.get(profile_url+\"&v=info\")\n",
    "    else:\n",
    "        driver.get(profile_url+\"/about\")\n",
    "    soup=BeautifulSoup(driver.page_source,'html.parser')\n",
    "    search_res=soup.find('td',text=\"Date of birth\")\n",
    "    if search_res:\n",
    "        print(\"Birthdate is visible\")\n",
    "        dob=soup.find_all('td',text=\"Date of birth\")[0].find_parent().find_all('td')[1].text\n",
    "        print(dob)\n",
    "        return dob\n",
    "    else:\n",
    "        print(\"Birthdate is hidden\")\n",
    "        return None"
   ]
  },
  {
   "cell_type": "code",
   "execution_count": 7,
   "id": "10e75a4a",
   "metadata": {},
   "outputs": [],
   "source": [
    "def scrape_cur_page():\n",
    "    tags=driver.find_elements_by_tag_name('tbody')\n",
    "    for tag in tags[1:-2]:\n",
    "        data=tag.find_element_by_tag_name('a')\n",
    "        name=data.text\n",
    "        profile_link=data.get_attribute('href')\n",
    "        print(data.text)\n",
    "        print(data.get_attribute('href'))\n",
    "        if \"hovercard\" in profile_link:\n",
    "            continue\n",
    "        profile_link=profile_link.split('fref=fr_tab')[0][:-1]\n",
    "        friend2url[name]=profile_link"
   ]
  },
  {
   "cell_type": "code",
   "execution_count": 8,
   "id": "b6aeb5bb",
   "metadata": {},
   "outputs": [],
   "source": [
    "friend2url={}"
   ]
  },
  {
   "cell_type": "code",
   "execution_count": 14,
   "id": "795d1389",
   "metadata": {},
   "outputs": [],
   "source": [
    "friend2bday={}"
   ]
  },
  {
   "cell_type": "code",
   "execution_count": 10,
   "id": "e75ebc9d",
   "metadata": {},
   "outputs": [],
   "source": [
    "# code block to scrape all complete friend_list\n",
    "def generate_friend2url():\n",
    "    pg_count=1\n",
    "    while True:\n",
    "        print(pg_count)\n",
    "        scrape_cur_page()\n",
    "        try:\n",
    "            click_see_more_friends()\n",
    "            pg_count+=1\n",
    "        except Exception as e:\n",
    "            print(\"Reached End\")\n",
    "            break"
   ]
  },
  {
   "cell_type": "code",
   "execution_count": null,
   "id": "34ccda99",
   "metadata": {},
   "outputs": [],
   "source": [
    "generate_friend2url()"
   ]
  },
  {
   "cell_type": "code",
   "execution_count": null,
   "id": "7e3e3b47",
   "metadata": {},
   "outputs": [],
   "source": [
    "friend2url"
   ]
  },
  {
   "cell_type": "code",
   "execution_count": 13,
   "id": "d6fc86ef",
   "metadata": {},
   "outputs": [],
   "source": [
    "del(friend2url['Find Friends'])"
   ]
  },
  {
   "cell_type": "code",
   "execution_count": 14,
   "id": "0dd7d761",
   "metadata": {},
   "outputs": [],
   "source": [
    "# dump friend2url to json to save progress"
   ]
  },
  {
   "cell_type": "code",
   "execution_count": 16,
   "id": "708d49d2",
   "metadata": {},
   "outputs": [],
   "source": [
    "dump_json(\"friend2url.json\",friend2url)"
   ]
  },
  {
   "cell_type": "code",
   "execution_count": null,
   "id": "35469825",
   "metadata": {},
   "outputs": [],
   "source": [
    "# can load friend2url directly now"
   ]
  },
  {
   "cell_type": "code",
   "execution_count": 8,
   "id": "9f82ce57",
   "metadata": {},
   "outputs": [],
   "source": [
    "friend2url=load_json(\"friend2url.json\")"
   ]
  },
  {
   "cell_type": "code",
   "execution_count": 9,
   "id": "0cbca2c2",
   "metadata": {},
   "outputs": [
    {
     "name": "stdout",
     "output_type": "stream",
     "text": [
      "1516\n"
     ]
    }
   ],
   "source": [
    "print(len(friend2url))"
   ]
  },
  {
   "cell_type": "code",
   "execution_count": null,
   "id": "5d7e873f",
   "metadata": {},
   "outputs": [],
   "source": [
    "friend2url"
   ]
  },
  {
   "cell_type": "code",
   "execution_count": 8,
   "id": "2463ca28",
   "metadata": {},
   "outputs": [],
   "source": [
    "def break_to_feel_real():\n",
    "    driver.get(\"https://www.jxtin.me\")\n",
    "    time.sleep(30)"
   ]
  },
  {
   "cell_type": "code",
   "execution_count": 12,
   "id": "58cb55fc",
   "metadata": {},
   "outputs": [],
   "source": [
    "def generate_friend2bday():\n",
    "    count=0\n",
    "    for friend,url in friend2url.items():\n",
    "        count+=1\n",
    "        bday=get_BirthDate(url)\n",
    "        time.sleep(1)\n",
    "        if bday is not None:\n",
    "            friend2bday[friend]=bday\n",
    "        if count%30==0:\n",
    "            break_to_feel_real()"
   ]
  },
  {
   "cell_type": "code",
   "execution_count": null,
   "id": "f23c6644",
   "metadata": {},
   "outputs": [],
   "source": [
    "generate_friend2bday()"
   ]
  },
  {
   "cell_type": "code",
   "execution_count": 24,
   "id": "a7a81ed2",
   "metadata": {},
   "outputs": [
    {
     "data": {
      "text/plain": [
       "47"
      ]
     },
     "execution_count": 24,
     "metadata": {},
     "output_type": "execute_result"
    }
   ],
   "source": []
  },
  {
   "cell_type": "code",
   "execution_count": null,
   "id": "b1d98d85",
   "metadata": {},
   "outputs": [],
   "source": []
  }
 ],
 "metadata": {
  "kernelspec": {
   "display_name": "Python 3 (ipykernel)",
   "language": "python",
   "name": "python3"
  },
  "language_info": {
   "codemirror_mode": {
    "name": "ipython",
    "version": 3
   },
   "file_extension": ".py",
   "mimetype": "text/x-python",
   "name": "python",
   "nbconvert_exporter": "python",
   "pygments_lexer": "ipython3",
   "version": "3.10.2"
  }
 },
 "nbformat": 4,
 "nbformat_minor": 5
}
