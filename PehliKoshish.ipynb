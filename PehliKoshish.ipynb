{
 "cells": [
  {
   "cell_type": "code",
   "execution_count": null,
   "id": "31a6bbc6",
   "metadata": {},
   "outputs": [],
   "source": [
    "import undetected_chromedriver as uc"
   ]
  },
  {
   "cell_type": "code",
   "execution_count": null,
   "id": "5eb6d61b",
   "metadata": {},
   "outputs": [],
   "source": [
    "def init_chromedriver(url):\n",
    "    options = uc.ChromeOptions()\n",
    "    options.headless = False\n",
    "    driver = uc.Chrome(options=options)\n",
    "    driver.get(url)\n",
    "    return driver"
   ]
  },
  {
   "cell_type": "code",
   "execution_count": null,
   "id": "98287a6f",
   "metadata": {},
   "outputs": [],
   "source": [
    "driver=init_chromedriver(\"https://www.facebook.com\")"
   ]
  },
  {
   "cell_type": "code",
   "execution_count": null,
   "id": "1f38692b",
   "metadata": {},
   "outputs": [],
   "source": [
    "driver.get(\"https://mbasic.facebook.com/me/friends\")"
   ]
  },
  {
   "cell_type": "code",
   "execution_count": null,
   "id": "820c0acd",
   "metadata": {},
   "outputs": [],
   "source": [
    "tags=driver.find_elements_by_tag_name('tbody')\n",
    "for tag in tags[2:-2]:\n",
    "    data=tag.find_element_by_tag_name('a')\n",
    "    print(data.text)\n",
    "    print(data.get_attribute('href'))"
   ]
  },
  {
   "cell_type": "code",
   "execution_count": null,
   "id": "33978a60",
   "metadata": {},
   "outputs": [],
   "source": [
    "def click_see_more_friends():\n",
    "    driver.find_element_by_id(\"m_more_friends\").find_element_by_tag_name('a').click()"
   ]
  },
  {
   "cell_type": "code",
   "execution_count": null,
   "id": "22b9fcd5",
   "metadata": {},
   "outputs": [],
   "source": [
    "for i in range(20):\n",
    "    click_see_more_friends()\n",
    "    time.sleep(0.2)"
   ]
  },
  {
   "cell_type": "code",
   "execution_count": null,
   "id": "96aaf3c5",
   "metadata": {},
   "outputs": [],
   "source": [
    "# deprecated\n",
    "tags=(driver.find_elements_by_tag_name('a'))\n",
    "list_links=[]\n",
    "for tag in tags:\n",
    "    if tag.get_attribute(\"aria-hidden\"):\n",
    "        if (tag.get_attribute('href')) is not None:\n",
    "            list_links.append(tag.get_attribute('href'))\n",
    "#         print(tag.get_attribute('href')\n",
    "print(list_links)\n",
    "len(list_links)"
   ]
  },
  {
   "cell_type": "code",
   "execution_count": null,
   "id": "ece33164",
   "metadata": {},
   "outputs": [],
   "source": [
    "len(friend_list)"
   ]
  },
  {
   "cell_type": "code",
   "execution_count": null,
   "id": "0b6da457",
   "metadata": {},
   "outputs": [],
   "source": [
    "friend2url={}\n",
    "for friend in friend_list:\n",
    "    name=friend.text.split('\\n')[0]\n",
    "    print(name)\n",
    "    try:\n",
    "        friend_url=friend.find_element_by_tag_name('a').get_attribute('href')\n",
    "        print(friend_url)\n",
    "        friend2url[name]=friend_url\n",
    "    except Exception as e:\n",
    "        print(\"ID-Deactivated\")\n",
    "\n",
    "friend2url"
   ]
  },
  {
   "cell_type": "code",
   "execution_count": null,
   "id": "667271d5",
   "metadata": {},
   "outputs": [],
   "source": [
    "len(friend2url)"
   ]
  },
  {
   "cell_type": "code",
   "execution_count": null,
   "id": "0f8a98ff",
   "metadata": {},
   "outputs": [],
   "source": [
    "from bs4 import BeautifulSoup"
   ]
  },
  {
   "cell_type": "code",
   "execution_count": null,
   "id": "2b9fa1ac",
   "metadata": {},
   "outputs": [],
   "source": [
    "soup=BeautifulSoup(driver.page_source,'html.parser')"
   ]
  },
  {
   "cell_type": "code",
   "execution_count": null,
   "id": "63126d0f",
   "metadata": {},
   "outputs": [],
   "source": [
    "print(soup.prettify())"
   ]
  },
  {
   "cell_type": "code",
   "execution_count": null,
   "id": "ab9cb7cb",
   "metadata": {},
   "outputs": [],
   "source": [
    "soup.find_all(\"span\",string=\"Basic info\")[0].prettify()"
   ]
  },
  {
   "cell_type": "code",
   "execution_count": null,
   "id": "06fbc149",
   "metadata": {},
   "outputs": [],
   "source": [
    "soup.find_all(\"div\",string=\"Birth year\")[0].find_parent().text"
   ]
  },
  {
   "cell_type": "code",
   "execution_count": null,
   "id": "460d674e",
   "metadata": {},
   "outputs": [],
   "source": [
    "soup.find_all(\"div\",string=\"Birth date\")[0].find_parent().text"
   ]
  },
  {
   "cell_type": "code",
   "execution_count": null,
   "id": "9151438a",
   "metadata": {},
   "outputs": [],
   "source": [
    "def get_BirthDate(profile_url):\n",
    "    if \"?id=\" in profile_url:\n",
    "        driver.get(profile_url+\"&sk=about_contact_and_basic_info\")\n",
    "    else:\n",
    "        driver.get(profile_url+\"/about_contact_and_basic_info\")\n",
    "    soup=BeautifulSoup(driver.page_source,'html.parser')\n",
    "    year_str=soup.find_all(\"div\",string=\"Birth year\")\n",
    "    date_str=soup.find_all(\"div\",string=\"Birth date\")\n",
    "    print(year_str)\n",
    "    print(date_str)\n",
    "    if (year_str) and (date_str):\n",
    "        print(\"DOB-Exists\")\n",
    "        bday=date_str[0].find_parent().text.split('B')[0]+\" \"+year_str[0].find_parent().text.split('B')[0]\n",
    "        print(bday)\n",
    "    else:\n",
    "        print(\"DOB no exist\")"
   ]
  },
  {
   "cell_type": "code",
   "execution_count": null,
   "id": "95fea036",
   "metadata": {},
   "outputs": [],
   "source": [
    "get_BirthDate(\"https://www.facebook.com/akhileshchellani\")"
   ]
  },
  {
   "cell_type": "code",
   "execution_count": null,
   "id": "13277fb1",
   "metadata": {},
   "outputs": [],
   "source": [
    "friend2url"
   ]
  },
  {
   "cell_type": "code",
   "execution_count": null,
   "id": "ada47dd9",
   "metadata": {},
   "outputs": [],
   "source": [
    "len(friend2url)"
   ]
  },
  {
   "cell_type": "code",
   "execution_count": null,
   "id": "33cd7673",
   "metadata": {},
   "outputs": [],
   "source": [
    "def get_BirthDate(profile_url):\n",
    "    if \"?id=\" in profile_url:\n",
    "        driver.get(profile_url+\"&sk=about_contact_and_basic_info\")\n",
    "    else:\n",
    "        driver.get(profile_url+\"/about_contact_and_basic_info\")\n",
    "    soup=BeautifulSoup(driver.page_source,'html.parser')\n",
    "    year_str=soup.find_all(\"div\",string=\"Birth year\")\n",
    "    date_str=soup.find_all(\"div\",string=\"Birth date\")\n",
    "    if (year_str) and (date_str): # need to include partial cases by changing and to or\n",
    "        print(\"DOB-Exists\")\n",
    "        bday=date_str[0].find_parent().text.split('B')[0]+\" \"+year_str[0].find_parent().text.split('B')[0]\n",
    "        print(bday)\n",
    "    else:\n",
    "        print(\"DOB no exist\")"
   ]
  },
  {
   "cell_type": "code",
   "execution_count": null,
   "id": "b272edab",
   "metadata": {},
   "outputs": [],
   "source": [
    "import time"
   ]
  },
  {
   "cell_type": "code",
   "execution_count": null,
   "id": "765bbb69",
   "metadata": {},
   "outputs": [],
   "source": [
    "count=0\n",
    "for friend in friend2url:\n",
    "    print(friend)\n",
    "    print(friend2url[friend])\n",
    "    get_BirthDate(friend2url[friend])\n",
    "    time.sleep(1)\n",
    "    count+=1\n",
    "    if (count%10)==0:\n",
    "        ch=input(\"Do more?\")\n",
    "        if ch==\"yes\":\n",
    "            continue\n",
    "        else:\n",
    "            break"
   ]
  },
  {
   "cell_type": "code",
   "execution_count": null,
   "id": "92be46c9",
   "metadata": {},
   "outputs": [],
   "source": [
    "driver.get(\"https://www.jxtin.me\")"
   ]
  },
  {
   "cell_type": "code",
   "execution_count": null,
   "id": "bec73755",
   "metadata": {},
   "outputs": [],
   "source": [
    "friend2url={}\n",
    "def scrape_cur_page():\n",
    "    tags=driver.find_elements_by_tag_name('tbody')\n",
    "    for tag in tags[1:-2]:\n",
    "        data=tag.find_element_by_tag_name('a')\n",
    "        name=data.text\n",
    "        profile_link=data.get_attribute('href')\n",
    "        print(data.text)\n",
    "        print(data.get_attribute('href'))\n",
    "        if \"hovercard\" in profile_link:\n",
    "            continue\n",
    "        profile_link=profile_link.split('fref=fr_tab')[0][:-1]\n",
    "        friend2url[name]=profile_link"
   ]
  },
  {
   "cell_type": "code",
   "execution_count": null,
   "id": "23435e4c",
   "metadata": {},
   "outputs": [],
   "source": [
    "scrape_cur_page()\n",
    "friend2url"
   ]
  },
  {
   "cell_type": "code",
   "execution_count": null,
   "id": "f43f59cd",
   "metadata": {},
   "outputs": [],
   "source": [
    "def get_BirthDate(profile_url):\n",
    "    if \"?id=\" in profile_url:\n",
    "        driver.get(profile_url+\"&v=info\")\n",
    "    else:\n",
    "        driver.get(profile_url+\"/about\")\n",
    "    soup=BeautifulSoup(driver.page_source,'html.parser')\n",
    "    search_res=soup.find('td',text=\"Date of birth\")\n",
    "    if search_res:\n",
    "        print(\"Birthdate is visible\")\n",
    "        dob=soup.find_all('td',text=\"Date of birth\")[0].find_parent().find_all('td')[1].text\n",
    "        print(dob)\n",
    "        return dob\n",
    "    else:\n",
    "        print(\"Birthdate is hidden\")\n",
    "        return None"
   ]
  },
  {
   "cell_type": "code",
   "execution_count": null,
   "id": "1dab33c2",
   "metadata": {},
   "outputs": [],
   "source": [
    "soup=BeautifulSoup(driver.page_source,'html.parser')\n",
    "soup.find_all('td',text=\"Date of birth\")[0].find_parent().find_all('td')[1].text"
   ]
  },
  {
   "cell_type": "code",
   "execution_count": null,
   "id": "95d6d831",
   "metadata": {},
   "outputs": [],
   "source": [
    "if soup.find('td',text=\"Date of birth\"):"
   ]
  },
  {
   "cell_type": "code",
   "execution_count": null,
   "id": "0bf56bd1",
   "metadata": {},
   "outputs": [],
   "source": [
    "# code block to scrape all complete friend_list\n",
    "pg_count=1\n",
    "while True:\n",
    "    print(pg_count)\n",
    "    scrape_cur_page()\n",
    "    try:\n",
    "        click_see_more_friends()\n",
    "        pg_count+=1\n",
    "    except NoSuchElementException as e:\n",
    "        print(\"Reached End\")\n",
    "        break"
   ]
  },
  {
   "cell_type": "code",
   "execution_count": null,
   "id": "adf44db8",
   "metadata": {},
   "outputs": [],
   "source": [
    "len(friend2url)"
   ]
  },
  {
   "cell_type": "code",
   "execution_count": null,
   "id": "83bcf721",
   "metadata": {},
   "outputs": [],
   "source": [
    "friend2url"
   ]
  },
  {
   "cell_type": "code",
   "execution_count": null,
   "id": "2573dd83",
   "metadata": {},
   "outputs": [],
   "source": [
    "del(friend2url['Find Friends'])"
   ]
  },
  {
   "cell_type": "code",
   "execution_count": null,
   "id": "b990fd7a",
   "metadata": {},
   "outputs": [],
   "source": [
    "friend2url"
   ]
  },
  {
   "cell_type": "code",
   "execution_count": null,
   "id": "02741b37",
   "metadata": {},
   "outputs": [],
   "source": [
    "friend2bday={}"
   ]
  },
  {
   "cell_type": "code",
   "execution_count": null,
   "id": "bdb9623a",
   "metadata": {},
   "outputs": [],
   "source": [
    "for friend,url in friend2url.items():\n",
    "    bday=get_BirthDate(url)\n",
    "    time.sleep(0.3)\n",
    "    if bday is not None:\n",
    "        friend2bday[friend]=bday"
   ]
  },
  {
   "cell_type": "code",
   "execution_count": null,
   "id": "7618c5dd",
   "metadata": {},
   "outputs": [],
   "source": [
    "friend2bday"
   ]
  },
  {
   "cell_type": "code",
   "execution_count": null,
   "id": "2150f78c",
   "metadata": {},
   "outputs": [],
   "source": [
    "def init_chromedriver(url):\n",
    "    options = uc.ChromeOptions()\n",
    "    options.headless = False\n",
    "    options.user_data_dir=\"/home/jxt1n/.config/chromium/\"\n",
    "    driver = uc.Chrome(options=options)\n",
    "    driver.get(url)\n",
    "    return driver"
   ]
  },
  {
   "cell_type": "code",
   "execution_count": null,
   "id": "0dd2f898",
   "metadata": {},
   "outputs": [],
   "source": []
  }
 ],
 "metadata": {
  "kernelspec": {
   "display_name": "Python 3 (ipykernel)",
   "language": "python",
   "name": "python3"
  },
  "language_info": {
   "codemirror_mode": {
    "name": "ipython",
    "version": 3
   },
   "file_extension": ".py",
   "mimetype": "text/x-python",
   "name": "python",
   "nbconvert_exporter": "python",
   "pygments_lexer": "ipython3",
   "version": "3.10.2"
  }
 },
 "nbformat": 4,
 "nbformat_minor": 5
}
