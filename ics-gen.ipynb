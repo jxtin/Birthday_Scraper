{
 "cells": [
  {
   "cell_type": "code",
   "execution_count": 81,
   "id": "f630f7ab",
   "metadata": {},
   "outputs": [],
   "source": [
    "import json\n",
    "\n",
    "def load_json(filename):\n",
    "    with open(filename, \"r\") as json_file:\n",
    "        return json.load(json_file)"
   ]
  },
  {
   "cell_type": "code",
   "execution_count": 82,
   "id": "db6a65b5",
   "metadata": {},
   "outputs": [],
   "source": [
    "bdays=load_json(\"friend2bday.json\")"
   ]
  },
  {
   "cell_type": "code",
   "execution_count": 83,
   "id": "ba4bf4fe",
   "metadata": {},
   "outputs": [
    {
     "data": {
      "text/plain": [
       "'9 August'"
      ]
     },
     "execution_count": 83,
     "metadata": {},
     "output_type": "execute_result"
    }
   ],
   "source": [
    "list(bdays.values())[0]"
   ]
  },
  {
   "cell_type": "code",
   "execution_count": 84,
   "id": "e14b509f",
   "metadata": {},
   "outputs": [],
   "source": [
    "from icalendar import Calendar, Event, vCalAddress, vText\n",
    "import pytz\n",
    "from datetime import datetime, timedelta"
   ]
  },
  {
   "cell_type": "code",
   "execution_count": 85,
   "id": "b7c2e327",
   "metadata": {
    "scrolled": true
   },
   "outputs": [
    {
     "name": "stdout",
     "output_type": "stream",
     "text": [
      "09 August\n",
      "26 November\n",
      "16 September\n",
      "12 October\n",
      "19 November\n",
      "30 May\n",
      "28 February\n",
      "01 January\n",
      "15 January\n",
      "20 October\n"
     ]
    }
   ],
   "source": [
    "for i in range(10):\n",
    "    date=datetime.strptime(list(bdays.values())[i],\"%d %B\")\n",
    "    date.replace(year=2022)\n",
    "    print(date.strftime(\"%d %B\"))"
   ]
  },
  {
   "cell_type": "code",
   "execution_count": null,
   "id": "e5c8180c",
   "metadata": {},
   "outputs": [],
   "source": []
  },
  {
   "cell_type": "code",
   "execution_count": 86,
   "id": "d54ff0b5",
   "metadata": {},
   "outputs": [],
   "source": [
    "from icalendar import Calendar, Event, vCalAddress, vText"
   ]
  },
  {
   "cell_type": "code",
   "execution_count": 87,
   "id": "4d5bc669",
   "metadata": {},
   "outputs": [
    {
     "name": "stdout",
     "output_type": "stream",
     "text": [
      "Error:  Sameera M Joseph\n",
      "29 February\n",
      "Error:  AbHi Raj\n",
      "29 February\n"
     ]
    }
   ],
   "source": [
    "cal=Calendar()\n",
    "# iterate over all birthdays in the dictionary and add them to the calendar\n",
    "for name, bday in list(bdays.items())[:]:\n",
    "    try:\n",
    "        event=Event()\n",
    "        event.add('summary', name)\n",
    "        event.add('dtstart', datetime.strptime(bday, '%d %B').replace(year=2022))\n",
    "        # event.add('rrule', {'freq': 'yearly','bymonthday':datetime.strptime(bday,\"%d %B\").day,'bymonth':datetime.strptime(bday,\"%d %B\").month,'until':datetime.strptime(bday,\"%d %B\").replace(year=2099)})\n",
    "        event.add('rrule',{'freq':'yearly'})\n",
    "        event.add('dtend', datetime.strptime(bday, '%d %B').replace(year=2022)+timedelta(hours=23, minutes=59))\n",
    "        # add repeating rule\n",
    "        cal.add_component(event)\n",
    "    except:\n",
    "        print(\"Error: \", name)\n",
    "        print(bday)\n",
    "        continue\n",
    "# write the calendar to file using with\n",
    "with open('example.ics', 'wb') as f:\n",
    "    f.write(cal.to_ical())"
   ]
  },
  {
   "cell_type": "markdown",
   "id": "11ba91e1",
   "metadata": {},
   "source": []
  },
  {
   "cell_type": "code",
   "execution_count": null,
   "id": "1573e687",
   "metadata": {},
   "outputs": [],
   "source": []
  },
  {
   "cell_type": "code",
   "execution_count": null,
   "id": "fdc2251f",
   "metadata": {},
   "outputs": [],
   "source": []
  }
 ],
 "metadata": {
  "kernelspec": {
   "display_name": "Python 3 (ipykernel)",
   "language": "python",
   "name": "python3"
  },
  "language_info": {
   "codemirror_mode": {
    "name": "ipython",
    "version": 3
   },
   "file_extension": ".py",
   "mimetype": "text/x-python",
   "name": "python",
   "nbconvert_exporter": "python",
   "pygments_lexer": "ipython3",
   "version": "3.10.2"
  }
 },
 "nbformat": 4,
 "nbformat_minor": 5
}
